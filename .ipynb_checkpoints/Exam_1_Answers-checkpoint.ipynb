{
 "cells": [
  {
   "cell_type": "markdown",
   "metadata": {},
   "source": [
    "##### Exam 1 Answers by Javier López Rodríguez  (javier.lopez.rodriguez@alumnos.upm.es)"
   ]
  },
  {
   "cell_type": "markdown",
   "metadata": {},
   "source": [
    "### Problem 2\n",
    "\n",
    "ls shows a list of the directory contents.\n",
    "\n",
    "- Option -l shows the information in a long listing format, in which the ownership appears in the third (user) and fourth (group) fields.\n",
    "\n",
    "- Option -h shows the file size in a human-readable format.\n",
    "- I included the name of the file so that it only shows the information related to that file."
   ]
  },
  {
   "cell_type": "code",
   "execution_count": 1,
   "metadata": {
    "scrolled": true
   },
   "outputs": [
    {
     "name": "stdout",
     "output_type": "stream",
     "text": [
      "-rw-rw-r-- 1 osboxes osboxes 1.2M Sep  3 12:01 Locus_Germplasm_Phenotype_20130122.txt\n"
     ]
    }
   ],
   "source": [
    "ls -lh Locus_Germplasm_Phenotype_20130122.txt"
   ]
  },
  {
   "cell_type": "markdown",
   "metadata": {},
   "source": [
    "The permissions of this file are shown in the first field, \"-rw-rw-r--\". A letter (r, w and x) shows if that user is permitted to read, write and execute the file, respectively. A dash (-) indicates a lack of permission.\n",
    "\n",
    "- Characters 2-4 refer to the permissions of the user. \"rw-\" indicates that the user can read and write, but not execute.\n",
    "\n",
    "- Characters 5-7 show the permissions of the group. \"rw-\" indicates that the group can read and write, but not execute.\n",
    "\n",
    "- Characters 8-10 show the permissions of all other users. \"r--\" indicates that anyone can read the file, but not write or execute."
   ]
  },
  {
   "cell_type": "markdown",
   "metadata": {},
   "source": [
    "### Problem 3\n",
    "\n",
    "head -n outputs the first n lines of a file. In this case, head -1 shows the first line (the header)."
   ]
  },
  {
   "cell_type": "code",
   "execution_count": 2,
   "metadata": {},
   "outputs": [
    {
     "name": "stdout",
     "output_type": "stream",
     "text": [
      "Locus_name)\tGermplasm_name\tphenotype\tpubmed_id\n"
     ]
    }
   ],
   "source": [
    "head -1 Locus_Germplasm_Phenotype_20130122.txt"
   ]
  },
  {
   "cell_type": "markdown",
   "metadata": {},
   "source": [
    "### Problem 4\n",
    "\n",
    "wc with the argument -l counts the number of lines of a file."
   ]
  },
  {
   "cell_type": "code",
   "execution_count": 3,
   "metadata": {},
   "outputs": [
    {
     "name": "stdout",
     "output_type": "stream",
     "text": [
      "7216 Locus_Germplasm_Phenotype_20130122.txt\n"
     ]
    }
   ],
   "source": [
    "wc -l Locus_Germplasm_Phenotype_20130122.txt"
   ]
  },
  {
   "cell_type": "markdown",
   "metadata": {},
   "source": [
    "### Problem 5\n",
    "\n",
    "tail -n +NUM outputs every line starting with the NUM-th line. In this case, tail -n +2 starts with the 2nd line, therefore skipping the header.\n",
    "\n",
    "The output of tail gets redirected (>) to the new file.\n",
    "\n",
    "For the verification, wc -l outputs the number of lines of each file, as expected (7216 in the original, 7215 in Data_Only.csv)"
   ]
  },
  {
   "cell_type": "code",
   "execution_count": null,
   "metadata": {},
   "outputs": [],
   "source": [
    "# Writing only the data lines into the new file.\n",
    "tail -n +2 Locus_Germplasm_Phenotype_20130122.txt > Data_Only.csv\n",
    "\n",
    "# Checking that the new file has one less line than the original file.\n",
    "echo \"Number of lines of the original file:\"\n",
    "wc -l Locus_Germplasm_Phenotype_20130122.txt\n",
    "echo \"Number of lines of the new file:\"\n",
    "wc -l Data_Only.csv"
   ]
  },
  {
   "cell_type": "markdown",
   "metadata": {},
   "source": [
    "### Problem 6\n",
    "\n",
    "grep outputs every line that contains the word \"root\".\n",
    "\n",
    "- Option -a allows any possible binary to be handled like text, because I don't know the operating system in which the file was created.\n",
    "- Option -i makes it case-insensitive, so that it includes \"Root\" at the beginning of a sentence."
   ]
  },
  {
   "cell_type": "code",
   "execution_count": null,
   "metadata": {},
   "outputs": [],
   "source": [
    "grep -ai \"root\" Locus_Germplasm_Phenotype_20130122.txt"
   ]
  },
  {
   "cell_type": "markdown",
   "metadata": {},
   "source": [
    "### Problem 7\n",
    "\n",
    "The result of the last command gets piped into grep -oEi \"^AT[1-5]G[0-9]{5}\", which returns the matches for the AGI Locus code at the start of the line.\n",
    "\n",
    "- Option -o returns only the match.\n",
    "- Option -E allows the use of extended regular expressions such as {}.\n",
    "- Option -i makes it case-insensitive, because A T and G can be upper or lowercase.\n",
    "\n",
    "The result gets redirected (>) into the new file."
   ]
  },
  {
   "cell_type": "code",
   "execution_count": null,
   "metadata": {},
   "outputs": [],
   "source": [
    "grep -ai \"root\" Locus_Germplasm_Phenotype_20130122.txt | grep -oEi \"^AT[1-5]G[0-9]{5}\" > Root-associated-Loci.txt"
   ]
  },
  {
   "cell_type": "markdown",
   "metadata": {},
   "source": [
    "### Problem 8\n",
    "\n",
    "The result of the last command gets piped into grep -oE \"[0-9]+$\", which returns the matches for the PubMed ID at the end of the line. In this case, there are only numbers so there is no need for -i.\n",
    "\n",
    "The result gets redirected (>) into the new file."
   ]
  },
  {
   "cell_type": "code",
   "execution_count": null,
   "metadata": {},
   "outputs": [],
   "source": [
    "grep -ai \"root\" Locus_Germplasm_Phenotype_20130122.txt | grep -oE \"[0-9]+$\" > Root-associated-Publications.txt"
   ]
  },
  {
   "cell_type": "markdown",
   "metadata": {},
   "source": [
    "### Problem 9\n",
    "\n",
    "The AGI Locus Code contains the chromosome number in the third position, after \"AT\".\n",
    "\n",
    "Using grep, I first search for \"AT[1-5]\", to make sure that the number I find is the one in the third position, and not the ones after that.\n",
    "\n",
    "The result gets piped into a second grep, which extracts the number of the chromosome, and this gets piped into sort -u, so that each number only appears once."
   ]
  },
  {
   "cell_type": "code",
   "execution_count": null,
   "metadata": {},
   "outputs": [],
   "source": [
    "echo \"Chromosomes that contain genes associated with the roots:\"\n",
    "grep -o \"AT[1-5]\" Root-associated-Loci.txt | grep -o \"[1-5]\" | sort -u"
   ]
  },
  {
   "cell_type": "markdown",
   "metadata": {},
   "source": [
    "There are genes related to the roots on every chromosome (1-5), so the hypothesis was correct."
   ]
  },
  {
   "cell_type": "markdown",
   "metadata": {},
   "source": [
    "### Problem 10\n",
    "\n",
    "There are genes on every chromosome."
   ]
  }
 ],
 "metadata": {
  "kernelspec": {
   "display_name": "Bash",
   "language": "bash",
   "name": "bash"
  },
  "language_info": {
   "codemirror_mode": "shell",
   "file_extension": ".sh",
   "mimetype": "text/x-sh",
   "name": "bash"
  }
 },
 "nbformat": 4,
 "nbformat_minor": 2
}
